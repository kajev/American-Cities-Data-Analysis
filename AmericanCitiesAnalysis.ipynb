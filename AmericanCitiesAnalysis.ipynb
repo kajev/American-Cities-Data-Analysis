{
 "cells": [
  {
   "cell_type": "code",
   "execution_count": 1,
   "id": "2900abbe",
   "metadata": {},
   "outputs": [],
   "source": [
    "import numpy as np\n",
    "import pandas as pd\n",
    "\n",
    "%matplotlib inline\n",
    "df = pd.read_csv(\"listings_boston.csv\")\n",
    "df1 = pd.read_csv(\"listings_seattle.csv\")\n"
   ]
  },
  {
   "cell_type": "code",
   "execution_count": 2,
   "id": "628f71d7",
   "metadata": {},
   "outputs": [],
   "source": [
    "from sklearn.linear_model import LinearRegression\n",
    "from sklearn.model_selection import train_test_split\n",
    "import matplotlib.pyplot as plt"
   ]
  },
  {
   "cell_type": "code",
   "execution_count": 3,
   "id": "367cfa1c",
   "metadata": {},
   "outputs": [],
   "source": [
    "columns = [\"property_type\",\"price\",\"weekly_price\",\"monthly_price\",\"security_deposit\",\\\n",
    "           \"cleaning_fee\",\"guests_included\",\"extra_people\", \"minimum_nights\",\"maximum_nights\"]\n",
    "dfboston = df[columns]\n",
    "dfseattle = df1[columns]\n",
    "\n"
   ]
  },
  {
   "cell_type": "code",
   "execution_count": 4,
   "id": "9c8b1a89",
   "metadata": {},
   "outputs": [],
   "source": [
    "def make_vals_numeric(df, col):\n",
    "    #In:df -> out: df with numeric values to make charts with\n",
    "    \n",
    "    new_vals = remove_dollar_sign(df, col)\n",
    "    df[col] = df[col].replace(new_vals)"
   ]
  },
  {
   "cell_type": "code",
   "execution_count": 5,
   "id": "8c692829",
   "metadata": {},
   "outputs": [],
   "source": [
    "#input the price in sting form\n",
    "#returns a dict when a value of a column of numbers in a dataframe point at the \n",
    "#value in the form of string with no comma or dollar sign, any nan value becomes 0\n",
    "# str: '$1,000.00' -> '1000.0'\n",
    "def remove_dollar_sign(df, col):\n",
    "    orig = dict()\n",
    "    for x in df[col].keys():\n",
    "        \n",
    "        if isinstance(df[col][x],str):\n",
    "            orig[df[col][x]] = remove_comma(df,col,x)\n",
    "        elif isinstance(df[col][x], float):\n",
    "            orig[df[col][x]] = df[col][x]\n",
    "        elif df[col][x].isnull():\n",
    "            orig[df[col][x]] = 0.0\n",
    "    return orig"
   ]
  },
  {
   "cell_type": "code",
   "execution_count": 6,
   "id": "580fd522",
   "metadata": {},
   "outputs": [],
   "source": [
    "def grpby(df,col):\n",
    "    ret = df.groupby(col)[col].count()\n",
    "    return ret"
   ]
  },
  {
   "cell_type": "code",
   "execution_count": 7,
   "id": "9b6dc58c",
   "metadata": {},
   "outputs": [],
   "source": [
    "def remove_comma(dataframe,col,position):\n",
    "    res=\"\"\n",
    "    #position = row\n",
    "    this_parse = dataframe[col][position][1:]\n",
    "    for x in range(len(this_parse)):\n",
    "        if this_parse[x] != ',':\n",
    "            res += this_parse[x]\n",
    "    return res"
   ]
  },
  {
   "cell_type": "code",
   "execution_count": 8,
   "id": "1b7fd7b8",
   "metadata": {},
   "outputs": [],
   "source": [
    "def airbnb_average(dataframe,col):\n",
    "    res1 = 0\n",
    "    for y in dataframe[col].keys():\n",
    "        res = remove_comma(dataframe,col,y)\n",
    "        res1 += float(res)\n",
    "    final = res1/len(dataframe[col].keys())\n",
    "    return int(final)\n"
   ]
  },
  {
   "cell_type": "code",
   "execution_count": 9,
   "id": "bd66347a",
   "metadata": {},
   "outputs": [],
   "source": [
    "times = {\"weekly_price\":7, \"monthly_price\":30}\n",
    "def average_price(dataframe, col):\n",
    "    \n",
    "    \n",
    "    for x in dataframe[col].keys():\n",
    "        if dataframe['maximum_nights'][x] >= 30:\n",
    "            dataframe['monthly_price'][x] = \"$\" + str(float(remove_comma(dataframe,'price',x)) * 30.0)\n",
    "        if dataframe['maximum_nights'][x] >= 7:\n",
    "            dataframe['weekly_price'][x] = \"$\" + str(float(remove_comma(dataframe,'price',x)) * 7.0)\n",
    "    \n",
    "    return dataframe"
   ]
  },
  {
   "cell_type": "code",
   "execution_count": 10,
   "id": "cabc30d1",
   "metadata": {},
   "outputs": [],
   "source": [
    "def drop_col(database,col):\n",
    "    new_database = database.dropna(subset=[col],how='any')\n",
    "    return new_database"
   ]
  },
  {
   "cell_type": "code",
   "execution_count": 11,
   "id": "5adf2e58",
   "metadata": {},
   "outputs": [],
   "source": [
    "#uses the daily price if the listings doesn't have weekly or monthly prices\n",
    "\n",
    "def city_average_price(dataframe):\n",
    "    res = {\"price\":airbnb_average(dataframe, 'price'),\"weekly_price\":0, \"monthly_price\":0}\n",
    "    \n",
    "    dataframe = average_price(dataframe, 'weekly_price')\n",
    "    dataframe = average_price(dataframe, 'monthly_price')\n",
    "    \n",
    "    dataframe_weekly = drop_col(dataframe, 'weekly_price')\n",
    "    dataframe_monthly = drop_col(dataframe, 'monthly_price')\n",
    "    \n",
    "    dataframe_weekly_average = airbnb_average(dataframe_weekly, 'weekly_price')\n",
    "    dataframe_monthly_average = airbnb_average(dataframe_monthly, 'monthly_price')\n",
    "    res['weekly_price'] = dataframe_weekly_average\n",
    "    res['monthly_price'] = dataframe_monthly_average\n",
    "    return res"
   ]
  },
  {
   "cell_type": "code",
   "execution_count": 12,
   "id": "d34144ba",
   "metadata": {},
   "outputs": [
    {
     "name": "stderr",
     "output_type": "stream",
     "text": [
      "<ipython-input-9-3efe39d75a22>:7: SettingWithCopyWarning: \n",
      "A value is trying to be set on a copy of a slice from a DataFrame\n",
      "\n",
      "See the caveats in the documentation: https://pandas.pydata.org/pandas-docs/stable/user_guide/indexing.html#returning-a-view-versus-a-copy\n",
      "  dataframe['monthly_price'][x] = \"$\" + str(float(remove_comma(dataframe,'price',x)) * 30.0)\n",
      "<ipython-input-11-fc2618aa2494>:6: SettingWithCopyWarning: \n",
      "A value is trying to be set on a copy of a slice from a DataFrame\n",
      "\n",
      "See the caveats in the documentation: https://pandas.pydata.org/pandas-docs/stable/user_guide/indexing.html#returning-a-view-versus-a-copy\n",
      "  dataframe = average_price(dataframe, 'weekly_price')\n",
      "<ipython-input-9-3efe39d75a22>:9: SettingWithCopyWarning: \n",
      "A value is trying to be set on a copy of a slice from a DataFrame\n",
      "\n",
      "See the caveats in the documentation: https://pandas.pydata.org/pandas-docs/stable/user_guide/indexing.html#returning-a-view-versus-a-copy\n",
      "  dataframe['weekly_price'][x] = \"$\" + str(float(remove_comma(dataframe,'price',x)) * 7.0)\n"
     ]
    },
    {
     "data": {
      "text/plain": [
       "{'price': 127, 'weekly_price': 899, 'monthly_price': 3869}"
      ]
     },
     "execution_count": 12,
     "metadata": {},
     "output_type": "execute_result"
    }
   ],
   "source": [
    "seattle_averages = city_average_price(dfseattle)\n",
    "seattle_averages"
   ]
  },
  {
   "cell_type": "code",
   "execution_count": 13,
   "id": "5d14fe60",
   "metadata": {},
   "outputs": [
    {
     "name": "stderr",
     "output_type": "stream",
     "text": [
      "<ipython-input-9-3efe39d75a22>:7: SettingWithCopyWarning: \n",
      "A value is trying to be set on a copy of a slice from a DataFrame\n",
      "\n",
      "See the caveats in the documentation: https://pandas.pydata.org/pandas-docs/stable/user_guide/indexing.html#returning-a-view-versus-a-copy\n",
      "  dataframe['monthly_price'][x] = \"$\" + str(float(remove_comma(dataframe,'price',x)) * 30.0)\n",
      "<ipython-input-11-fc2618aa2494>:6: SettingWithCopyWarning: \n",
      "A value is trying to be set on a copy of a slice from a DataFrame\n",
      "\n",
      "See the caveats in the documentation: https://pandas.pydata.org/pandas-docs/stable/user_guide/indexing.html#returning-a-view-versus-a-copy\n",
      "  dataframe = average_price(dataframe, 'weekly_price')\n",
      "<ipython-input-9-3efe39d75a22>:9: SettingWithCopyWarning: \n",
      "A value is trying to be set on a copy of a slice from a DataFrame\n",
      "\n",
      "See the caveats in the documentation: https://pandas.pydata.org/pandas-docs/stable/user_guide/indexing.html#returning-a-view-versus-a-copy\n",
      "  dataframe['weekly_price'][x] = \"$\" + str(float(remove_comma(dataframe,'price',x)) * 7.0)\n"
     ]
    },
    {
     "data": {
      "text/plain": [
       "{'price': 173, 'weekly_price': 1220, 'monthly_price': 5255}"
      ]
     },
     "execution_count": 13,
     "metadata": {},
     "output_type": "execute_result"
    }
   ],
   "source": [
    "boston_averages = city_average_price(dfboston)\n",
    "boston_averages"
   ]
  },
  {
   "cell_type": "code",
   "execution_count": null,
   "id": "81995715",
   "metadata": {},
   "outputs": [],
   "source": []
  },
  {
   "cell_type": "code",
   "execution_count": 14,
   "id": "e33afc32",
   "metadata": {},
   "outputs": [
    {
     "data": {
      "text/plain": [
       "0        2550.0\n",
       "1        4500.0\n",
       "2       29250.0\n",
       "3        3000.0\n",
       "4       13500.0\n",
       "         ...   \n",
       "3813    10770.0\n",
       "3814        NaN\n",
       "3815        NaN\n",
       "3816     2970.0\n",
       "3817     2610.0\n",
       "Name: monthly_price, Length: 3818, dtype: float64"
      ]
     },
     "execution_count": 14,
     "metadata": {},
     "output_type": "execute_result"
    }
   ],
   "source": [
    "#copy the dataframe into a temp df to make charts out of\n",
    "df_seattle = dfseattle.copy()\n",
    "\n",
    "make_vals_numeric(df_seattle, \"price\")\n",
    "df_seattle[\"price\"] = pd.to_numeric(df_seattle['price'], errors='coerce')\n",
    "make_vals_numeric(df_seattle, \"weekly_price\")\n",
    "df_seattle[\"weekly_price\"] = pd.to_numeric(df_seattle['weekly_price'], errors='coerce')\n",
    "make_vals_numeric(df_seattle, \"monthly_price\")\n",
    "df_seattle[\"monthly_price\"] = pd.to_numeric(df_seattle['monthly_price'], errors='coerce')\n",
    "\n",
    "\n",
    "\n",
    "df_seattle[\"monthly_price\"]"
   ]
  },
  {
   "cell_type": "code",
   "execution_count": 15,
   "id": "96f8e5fd",
   "metadata": {},
   "outputs": [],
   "source": [
    "house_list = ['House','Apartment','Townhouse','Condominium', 'Loft']\n",
    "housing = []\n",
    "for x in df_seattle[\"property_type\"].keys():\n",
    "    if df_seattle[\"property_type\"][x] in house_list:\n",
    "        housing.append(df_seattle[\"property_type\"][x])\n",
    "    else:\n",
    "        housing.append(\"Other\")\n",
    "\n",
    "df_seattle[\"housing\"] = housing"
   ]
  },
  {
   "cell_type": "code",
   "execution_count": 34,
   "id": "491a7db6",
   "metadata": {},
   "outputs": [
    {
     "data": {
      "text/html": [
       "<div>\n",
       "<style scoped>\n",
       "    .dataframe tbody tr th:only-of-type {\n",
       "        vertical-align: middle;\n",
       "    }\n",
       "\n",
       "    .dataframe tbody tr th {\n",
       "        vertical-align: top;\n",
       "    }\n",
       "\n",
       "    .dataframe thead tr th {\n",
       "        text-align: left;\n",
       "    }\n",
       "\n",
       "    .dataframe thead tr:last-of-type th {\n",
       "        text-align: right;\n",
       "    }\n",
       "</style>\n",
       "<table border=\"1\" class=\"dataframe\">\n",
       "  <thead>\n",
       "    <tr>\n",
       "      <th></th>\n",
       "      <th colspan=\"2\" halign=\"left\">price</th>\n",
       "    </tr>\n",
       "    <tr>\n",
       "      <th></th>\n",
       "      <th>mean</th>\n",
       "      <th>count</th>\n",
       "    </tr>\n",
       "    <tr>\n",
       "      <th>housing</th>\n",
       "      <th></th>\n",
       "      <th></th>\n",
       "    </tr>\n",
       "  </thead>\n",
       "  <tbody>\n",
       "    <tr>\n",
       "      <th>Condominium</th>\n",
       "      <td>151.11</td>\n",
       "      <td>91</td>\n",
       "    </tr>\n",
       "    <tr>\n",
       "      <th>Loft</th>\n",
       "      <td>135.70</td>\n",
       "      <td>40</td>\n",
       "    </tr>\n",
       "    <tr>\n",
       "      <th>House</th>\n",
       "      <td>132.35</td>\n",
       "      <td>1733</td>\n",
       "    </tr>\n",
       "    <tr>\n",
       "      <th>Townhouse</th>\n",
       "      <td>129.46</td>\n",
       "      <td>118</td>\n",
       "    </tr>\n",
       "    <tr>\n",
       "      <th>Apartment</th>\n",
       "      <td>122.93</td>\n",
       "      <td>1708</td>\n",
       "    </tr>\n",
       "    <tr>\n",
       "      <th>Other</th>\n",
       "      <td>115.81</td>\n",
       "      <td>128</td>\n",
       "    </tr>\n",
       "  </tbody>\n",
       "</table>\n",
       "</div>"
      ],
      "text/plain": [
       "              price      \n",
       "               mean count\n",
       "housing                  \n",
       "Condominium  151.11    91\n",
       "Loft         135.70    40\n",
       "House        132.35  1733\n",
       "Townhouse    129.46   118\n",
       "Apartment    122.93  1708\n",
       "Other        115.81   128"
      ]
     },
     "execution_count": 34,
     "metadata": {},
     "output_type": "execute_result"
    },
    {
     "data": {
      "image/png": "[encoded data removed]",
      "text/plain": [
       "<Figure size 432x288 with 1 Axes>"
      ]
     },
     "metadata": {
      "needs_background": "light"
     },
     "output_type": "display_data"
    }
   ],
   "source": [
    "df_seattle[['housing','price']].groupby('housing').agg(['mean'])\\\n",
    ".sort_values(by=('price','mean'), ascending=False)\\\n",
    ".round(2).plot(title = 'Average Price in housing type',ylabel = 'Price',kind = \"bar\")\n",
    "\n",
    "df_seattle[['housing','price']].groupby('housing').\\\n",
    "agg(['mean','count']).sort_values(by=('price','mean'), ascending=False).round(2)\n"
   ]
  },
  {
   "cell_type": "code",
   "execution_count": 17,
   "id": "e765f081",
   "metadata": {},
   "outputs": [
    {
     "data": {
      "text/html": [
       "<div>\n",
       "<style scoped>\n",
       "    .dataframe tbody tr th:only-of-type {\n",
       "        vertical-align: middle;\n",
       "    }\n",
       "\n",
       "    .dataframe tbody tr th {\n",
       "        vertical-align: top;\n",
       "    }\n",
       "\n",
       "    .dataframe thead th {\n",
       "        text-align: right;\n",
       "    }\n",
       "</style>\n",
       "<table border=\"1\" class=\"dataframe\">\n",
       "  <thead>\n",
       "    <tr style=\"text-align: right;\">\n",
       "      <th></th>\n",
       "      <th>property_type</th>\n",
       "      <th>price</th>\n",
       "      <th>weekly_price</th>\n",
       "      <th>monthly_price</th>\n",
       "      <th>security_deposit</th>\n",
       "      <th>cleaning_fee</th>\n",
       "      <th>guests_included</th>\n",
       "      <th>extra_people</th>\n",
       "      <th>minimum_nights</th>\n",
       "      <th>maximum_nights</th>\n",
       "    </tr>\n",
       "  </thead>\n",
       "  <tbody>\n",
       "    <tr>\n",
       "      <th>0</th>\n",
       "      <td>House</td>\n",
       "      <td>250.0</td>\n",
       "      <td>1750.0</td>\n",
       "      <td>7500.0</td>\n",
       "      <td>NaN</td>\n",
       "      <td>$35.00</td>\n",
       "      <td>1</td>\n",
       "      <td>$0.00</td>\n",
       "      <td>2</td>\n",
       "      <td>1125</td>\n",
       "    </tr>\n",
       "    <tr>\n",
       "      <th>1</th>\n",
       "      <td>Apartment</td>\n",
       "      <td>65.0</td>\n",
       "      <td>455.0</td>\n",
       "      <td>NaN</td>\n",
       "      <td>$95.00</td>\n",
       "      <td>$10.00</td>\n",
       "      <td>0</td>\n",
       "      <td>$0.00</td>\n",
       "      <td>2</td>\n",
       "      <td>15</td>\n",
       "    </tr>\n",
       "    <tr>\n",
       "      <th>2</th>\n",
       "      <td>Apartment</td>\n",
       "      <td>65.0</td>\n",
       "      <td>455.0</td>\n",
       "      <td>1950.0</td>\n",
       "      <td>NaN</td>\n",
       "      <td>NaN</td>\n",
       "      <td>1</td>\n",
       "      <td>$20.00</td>\n",
       "      <td>3</td>\n",
       "      <td>45</td>\n",
       "    </tr>\n",
       "    <tr>\n",
       "      <th>3</th>\n",
       "      <td>House</td>\n",
       "      <td>75.0</td>\n",
       "      <td>525.0</td>\n",
       "      <td>2250.0</td>\n",
       "      <td>$100.00</td>\n",
       "      <td>$50.00</td>\n",
       "      <td>2</td>\n",
       "      <td>$25.00</td>\n",
       "      <td>1</td>\n",
       "      <td>1125</td>\n",
       "    </tr>\n",
       "    <tr>\n",
       "      <th>4</th>\n",
       "      <td>House</td>\n",
       "      <td>79.0</td>\n",
       "      <td>553.0</td>\n",
       "      <td>2370.0</td>\n",
       "      <td>NaN</td>\n",
       "      <td>$15.00</td>\n",
       "      <td>1</td>\n",
       "      <td>$0.00</td>\n",
       "      <td>2</td>\n",
       "      <td>31</td>\n",
       "    </tr>\n",
       "    <tr>\n",
       "      <th>...</th>\n",
       "      <td>...</td>\n",
       "      <td>...</td>\n",
       "      <td>...</td>\n",
       "      <td>...</td>\n",
       "      <td>...</td>\n",
       "      <td>...</td>\n",
       "      <td>...</td>\n",
       "      <td>...</td>\n",
       "      <td>...</td>\n",
       "      <td>...</td>\n",
       "    </tr>\n",
       "    <tr>\n",
       "      <th>3580</th>\n",
       "      <td>Apartment</td>\n",
       "      <td>69.0</td>\n",
       "      <td>483.0</td>\n",
       "      <td>2070.0</td>\n",
       "      <td>$95.00</td>\n",
       "      <td>NaN</td>\n",
       "      <td>1</td>\n",
       "      <td>$24.00</td>\n",
       "      <td>2</td>\n",
       "      <td>1125</td>\n",
       "    </tr>\n",
       "    <tr>\n",
       "      <th>3581</th>\n",
       "      <td>Apartment</td>\n",
       "      <td>150.0</td>\n",
       "      <td>1050.0</td>\n",
       "      <td>4500.0</td>\n",
       "      <td>$100.00</td>\n",
       "      <td>$15.00</td>\n",
       "      <td>1</td>\n",
       "      <td>$0.00</td>\n",
       "      <td>3</td>\n",
       "      <td>365</td>\n",
       "    </tr>\n",
       "    <tr>\n",
       "      <th>3582</th>\n",
       "      <td>Apartment</td>\n",
       "      <td>198.0</td>\n",
       "      <td>1386.0</td>\n",
       "      <td>NaN</td>\n",
       "      <td>NaN</td>\n",
       "      <td>NaN</td>\n",
       "      <td>1</td>\n",
       "      <td>$0.00</td>\n",
       "      <td>3</td>\n",
       "      <td>12</td>\n",
       "    </tr>\n",
       "    <tr>\n",
       "      <th>3583</th>\n",
       "      <td>Apartment</td>\n",
       "      <td>65.0</td>\n",
       "      <td>455.0</td>\n",
       "      <td>NaN</td>\n",
       "      <td>$100.00</td>\n",
       "      <td>NaN</td>\n",
       "      <td>1</td>\n",
       "      <td>$30.00</td>\n",
       "      <td>1</td>\n",
       "      <td>13</td>\n",
       "    </tr>\n",
       "    <tr>\n",
       "      <th>3584</th>\n",
       "      <td>Apartment</td>\n",
       "      <td>65.0</td>\n",
       "      <td>455.0</td>\n",
       "      <td>1950.0</td>\n",
       "      <td>NaN</td>\n",
       "      <td>$25.00</td>\n",
       "      <td>1</td>\n",
       "      <td>$30.00</td>\n",
       "      <td>1</td>\n",
       "      <td>1125</td>\n",
       "    </tr>\n",
       "  </tbody>\n",
       "</table>\n",
       "<p>3585 rows × 10 columns</p>\n",
       "</div>"
      ],
      "text/plain": [
       "     property_type  price  weekly_price  monthly_price security_deposit  \\\n",
       "0            House  250.0        1750.0         7500.0              NaN   \n",
       "1        Apartment   65.0         455.0            NaN           $95.00   \n",
       "2        Apartment   65.0         455.0         1950.0              NaN   \n",
       "3            House   75.0         525.0         2250.0          $100.00   \n",
       "4            House   79.0         553.0         2370.0              NaN   \n",
       "...            ...    ...           ...            ...              ...   \n",
       "3580     Apartment   69.0         483.0         2070.0           $95.00   \n",
       "3581     Apartment  150.0        1050.0         4500.0          $100.00   \n",
       "3582     Apartment  198.0        1386.0            NaN              NaN   \n",
       "3583     Apartment   65.0         455.0            NaN          $100.00   \n",
       "3584     Apartment   65.0         455.0         1950.0              NaN   \n",
       "\n",
       "     cleaning_fee  guests_included extra_people  minimum_nights  \\\n",
       "0          $35.00                1        $0.00               2   \n",
       "1          $10.00                0        $0.00               2   \n",
       "2             NaN                1       $20.00               3   \n",
       "3          $50.00                2       $25.00               1   \n",
       "4          $15.00                1        $0.00               2   \n",
       "...           ...              ...          ...             ...   \n",
       "3580          NaN                1       $24.00               2   \n",
       "3581       $15.00                1        $0.00               3   \n",
       "3582          NaN                1        $0.00               3   \n",
       "3583          NaN                1       $30.00               1   \n",
       "3584       $25.00                1       $30.00               1   \n",
       "\n",
       "      maximum_nights  \n",
       "0               1125  \n",
       "1                 15  \n",
       "2                 45  \n",
       "3               1125  \n",
       "4                 31  \n",
       "...              ...  \n",
       "3580            1125  \n",
       "3581             365  \n",
       "3582              12  \n",
       "3583              13  \n",
       "3584            1125  \n",
       "\n",
       "[3585 rows x 10 columns]"
      ]
     },
     "execution_count": 17,
     "metadata": {},
     "output_type": "execute_result"
    }
   ],
   "source": [
    "#copy the dataframe into a temp df to make charts out of\n",
    "df_boston = dfboston.copy()\n",
    "\n",
    "make_vals_numeric(df_boston, \"price\")\n",
    "df_boston[\"price\"] = pd.to_numeric(df_boston['price'], errors='coerce')\n",
    "make_vals_numeric(df_boston, \"weekly_price\")\n",
    "df_boston[\"weekly_price\"] = pd.to_numeric(df_boston['weekly_price'], errors='coerce')\n",
    "make_vals_numeric(df_boston, \"monthly_price\")\n",
    "df_boston[\"monthly_price\"] = pd.to_numeric(df_boston['monthly_price'], errors='coerce')\n"
   ]
  },
  {
   "cell_type": "code",
   "execution_count": 35,
   "id": "e3606b6d",
   "metadata": {},
   "outputs": [
    {
     "data": {
      "text/html": [
       "<div>\n",
       "<style scoped>\n",
       "    .dataframe tbody tr th:only-of-type {\n",
       "        vertical-align: middle;\n",
       "    }\n",
       "\n",
       "    .dataframe tbody tr th {\n",
       "        vertical-align: top;\n",
       "    }\n",
       "\n",
       "    .dataframe thead tr th {\n",
       "        text-align: left;\n",
       "    }\n",
       "\n",
       "    .dataframe thead tr:last-of-type th {\n",
       "        text-align: right;\n",
       "    }\n",
       "</style>\n",
       "<table border=\"1\" class=\"dataframe\">\n",
       "  <thead>\n",
       "    <tr>\n",
       "      <th></th>\n",
       "      <th colspan=\"2\" halign=\"left\">price</th>\n",
       "    </tr>\n",
       "    <tr>\n",
       "      <th></th>\n",
       "      <th>mean</th>\n",
       "      <th>count</th>\n",
       "    </tr>\n",
       "    <tr>\n",
       "      <th>housing</th>\n",
       "      <th></th>\n",
       "      <th></th>\n",
       "    </tr>\n",
       "  </thead>\n",
       "  <tbody>\n",
       "    <tr>\n",
       "      <th>Condominium</th>\n",
       "      <td>190.25</td>\n",
       "      <td>231</td>\n",
       "    </tr>\n",
       "    <tr>\n",
       "      <th>Loft</th>\n",
       "      <td>185.41</td>\n",
       "      <td>39</td>\n",
       "    </tr>\n",
       "    <tr>\n",
       "      <th>Apartment</th>\n",
       "      <td>181.97</td>\n",
       "      <td>2612</td>\n",
       "    </tr>\n",
       "    <tr>\n",
       "      <th>Other</th>\n",
       "      <td>172.90</td>\n",
       "      <td>87</td>\n",
       "    </tr>\n",
       "    <tr>\n",
       "      <th>Townhouse</th>\n",
       "      <td>149.04</td>\n",
       "      <td>54</td>\n",
       "    </tr>\n",
       "    <tr>\n",
       "      <th>House</th>\n",
       "      <td>131.60</td>\n",
       "      <td>562</td>\n",
       "    </tr>\n",
       "  </tbody>\n",
       "</table>\n",
       "</div>"
      ],
      "text/plain": [
       "              price      \n",
       "               mean count\n",
       "housing                  \n",
       "Condominium  190.25   231\n",
       "Loft         185.41    39\n",
       "Apartment    181.97  2612\n",
       "Other        172.90    87\n",
       "Townhouse    149.04    54\n",
       "House        131.60   562"
      ]
     },
     "execution_count": 35,
     "metadata": {},
     "output_type": "execute_result"
    },
    {
     "data": {
      "image/png": "[encoded data removed]",
      "text/plain": [
       "<Figure size 432x288 with 1 Axes>"
      ]
     },
     "metadata": {
      "needs_background": "light"
     },
     "output_type": "display_data"
    }
   ],
   "source": [
    "#create a new columnt to create charts from\n",
    "house_list = ['House','Apartment','Townhouse','Condominium', 'Loft',\"Other\"]\n",
    "housing = []\n",
    "for x in df_boston[\"property_type\"].keys():\n",
    "    if df_boston[\"property_type\"][x] in house_list:\n",
    "        housing.append(df_boston[\"property_type\"][x])\n",
    "    else:\n",
    "        housing.append(\"Other\")\n",
    "\n",
    "df_boston[\"housing\"] = housing\n",
    "\n",
    "\n",
    "df_boston[['housing','price']].groupby('housing').\\\n",
    "agg(['mean']).sort_values(by=('price','mean'), ascending=False).round(2)\\\n",
    ".plot(title = 'Average Price in housing type',ylabel = 'Price',kind = \"bar\")\n",
    "\n",
    "df_boston[['housing','price']].groupby('housing')\\\n",
    ".agg(['mean','count']).sort_values(by=('price','mean'), ascending=False).round(2)\n"
   ]
  },
  {
   "cell_type": "code",
   "execution_count": 19,
   "id": "2d761f26",
   "metadata": {},
   "outputs": [],
   "source": [
    "#this code just removes dollar signs and makes a column numeric, I learned an easier way to do this later\n",
    "make_vals_numeric(df_seattle, \"security_deposit\")\n",
    "df_seattle[\"security_deposit\"] = pd.to_numeric(df_seattle['security_deposit'], errors='coerce')\n",
    "make_vals_numeric(df_seattle, \"cleaning_fee\")\n",
    "df_seattle[\"cleaning_fee\"] = pd.to_numeric(df_seattle['cleaning_fee'], errors='coerce')\n",
    "remove_dollar_sign(df_seattle,\"security_deposit\")\n",
    "remove_dollar_sign(df_seattle,\"cleaning_fee\")\n",
    "\n",
    "make_vals_numeric(df_seattle, \"extra_people\")\n",
    "df_seattle[\"extra_people\"] = pd.to_numeric(df_seattle[\"extra_people\"], errors='coerce')\n",
    "extra_people = remove_dollar_sign(df_seattle, \"extra_people\")"
   ]
  },
  {
   "cell_type": "code",
   "execution_count": 20,
   "id": "89c7ed6b",
   "metadata": {},
   "outputs": [],
   "source": [
    "\n",
    "\n",
    "\n",
    "def cost_per_person(df, accom,days):\n",
    "    mins = []\n",
    "    maxs = []\n",
    "    \n",
    "    for x in df[\"property_type\"].keys():\n",
    "        #df: dataframe, accom: number of people splitting the bill(assumingly even), days:days spent at airbnb\n",
    "        #if days is under the minimum or over the maximum it'll it limited to the min_nights or max_nights respectively\n",
    "        #returns a list of lists, list of ret[0] is the list of minimums. list of ret[1] is the list of maximums\n",
    "        num_of_ppl = accom\n",
    "        if 0 < accom <= df[\"guests_included\"][x]:\n",
    "            num_of_ppl = accom\n",
    "        elif accom > df[\"guests_included\"][x]:\n",
    "            extra = accom - df[\"guests_included\"][x]\n",
    "            num_of_ppl = df[\"guests_included\"][x] + df[\"extra_people\"][x] * extra\n",
    "        \n",
    "        if 0< df[\"minimum_nights\"][x] <= days<= df[\"maximum_nights\"][x]:\n",
    "            staying = days\n",
    "        elif 0 < days <= df[\"minimum_nights\"][x] <= df[\"maximum_nights\"][x] :\n",
    "            staying =  df[\"minimum_nights\"][x] \n",
    "        elif 0 < df[\"maximum_nights\"][x] <= days:\n",
    "            staying = df[\"maximum_nights\"][x]\n",
    "        minimum = (df[\"cleaning_fee\"][x] + df[\"security_deposit\"][x] + df[\"price\"][x] * df[\"minimum_nights\"][x])/ num_of_ppl \n",
    "        maximum = (df[\"cleaning_fee\"][x] + df[\"security_deposit\"][x] + df[\"price\"][x] * staying)/ num_of_ppl\n",
    "        if df[\"guests_included\"][x] == 0:\n",
    "            minimum,maximum = (0,0)\n",
    "        # round if we get floats/ we only get ints if the row has guests_included = 0\n",
    "        if (isinstance(minimum, float) or isinstance(maximum, float)):\n",
    "            mins.append(minimum.round(2))\n",
    "            maxs.append(maximum.round(2))\n",
    "        else:\n",
    "            mins.append(minimum)\n",
    "            maxs.append(maximum)\n",
    "    \n",
    "    return [mins, maxs]\n",
    "    \n"
   ]
  },
  {
   "cell_type": "code",
   "execution_count": 36,
   "id": "3d17f0cd",
   "metadata": {},
   "outputs": [
    {
     "name": "stderr",
     "output_type": "stream",
     "text": [
      "<ipython-input-20-b4cd5c6229de>:22: RuntimeWarning: divide by zero encountered in double_scalars\n",
      "  minimum = (df[\"cleaning_fee\"][x] + df[\"security_deposit\"][x] + df[\"price\"][x] * df[\"minimum_nights\"][x])/ num_of_ppl\n",
      "<ipython-input-20-b4cd5c6229de>:23: RuntimeWarning: divide by zero encountered in double_scalars\n",
      "  maximum = (df[\"cleaning_fee\"][x] + df[\"security_deposit\"][x] + df[\"price\"][x] * staying)/ num_of_ppl\n"
     ]
    }
   ],
   "source": [
    "values = cost_per_person(df_seattle,2, 7)\n",
    "\n",
    "df_seattle[\"minimum\"] = values[0]\n",
    "df_seattle[\"maximum\"] = values[1]"
   ]
  },
  {
   "cell_type": "code",
   "execution_count": 37,
   "id": "9158c66a",
   "metadata": {},
   "outputs": [
    {
     "data": {
      "text/plain": [
       "<AxesSubplot:title={'center':'Average price of splitting an airbnb (maximum nights)'}, xlabel='housing', ylabel='Price'>"
      ]
     },
     "execution_count": 37,
     "metadata": {},
     "output_type": "execute_result"
    },
    {
     "data": {
      "image/png": "[encoded data removed]",
      "text/plain": [
       "<Figure size 432x288 with 1 Axes>"
      ]
     },
     "metadata": {
      "needs_background": "light"
     },
     "output_type": "display_data"
    },
    {
     "data": {
      "image/png": "[encoded data removed]",
      "text/plain": [
       "<Figure size 432x288 with 1 Axes>"
      ]
     },
     "metadata": {
      "needs_background": "light"
     },
     "output_type": "display_data"
    }
   ],
   "source": [
    "df_seattle[[\"housing\", \"minimum\"]].groupby('housing')\\\n",
    ".agg(['mean']).sort_values(by=('minimum','mean'), ascending =False)\\\n",
    ".round(2).plot(title='Average price of splitting an airbnb (minimum nights)',ylabel='Price',kind=\"bar\")\n",
    "\n",
    "df_seattle[[\"housing\", \"maximum\"]].groupby('housing')\\\n",
    ".agg(['mean']).sort_values(by=('maximum','mean'), ascending =False)\\\n",
    ".round(2).plot(title='Average price of splitting an airbnb (maximum nights)',ylabel='Price',kind=\"bar\")"
   ]
  },
  {
   "cell_type": "code",
   "execution_count": 23,
   "id": "d534b090",
   "metadata": {},
   "outputs": [],
   "source": [
    "make_vals_numeric(df_boston, \"security_deposit\")\n",
    "df_boston[\"security_deposit\"] = pd.to_numeric(df_boston['security_deposit'], errors='coerce')\n",
    "make_vals_numeric(df_boston, \"cleaning_fee\")\n",
    "df_boston[\"cleaning_fee\"] = pd.to_numeric(df_boston['cleaning_fee'], errors='coerce')\n",
    "remove_dollar_sign(df_boston,\"security_deposit\")\n",
    "remove_dollar_sign(df_boston,\"cleaning_fee\")\n",
    "\n",
    "make_vals_numeric(df_boston, \"extra_people\")\n",
    "df_boston[\"extra_people\"] = pd.to_numeric(df_boston[\"extra_people\"], errors='coerce')\n",
    "extra_people = remove_dollar_sign(df_boston, \"extra_people\")"
   ]
  },
  {
   "cell_type": "code",
   "execution_count": 38,
   "id": "33bf0c52",
   "metadata": {},
   "outputs": [
    {
     "name": "stderr",
     "output_type": "stream",
     "text": [
      "<ipython-input-20-b4cd5c6229de>:22: RuntimeWarning: divide by zero encountered in double_scalars\n",
      "  minimum = (df[\"cleaning_fee\"][x] + df[\"security_deposit\"][x] + df[\"price\"][x] * df[\"minimum_nights\"][x])/ num_of_ppl\n",
      "<ipython-input-20-b4cd5c6229de>:23: RuntimeWarning: divide by zero encountered in double_scalars\n",
      "  maximum = (df[\"cleaning_fee\"][x] + df[\"security_deposit\"][x] + df[\"price\"][x] * staying)/ num_of_ppl\n"
     ]
    }
   ],
   "source": [
    "values = cost_per_person(df_boston,2, 7)\n",
    "\n",
    "df_boston[\"minimum\"] = values[0]\n",
    "df_boston[\"maximum\"] = values[1]"
   ]
  },
  {
   "cell_type": "code",
   "execution_count": 39,
   "id": "d89be081",
   "metadata": {},
   "outputs": [
    {
     "data": {
      "text/plain": [
       "<AxesSubplot:title={'center':'Average price of splitting an airbnb (maximum nights)'}, xlabel='housing', ylabel='Price'>"
      ]
     },
     "execution_count": 39,
     "metadata": {},
     "output_type": "execute_result"
    },
    {
     "data": {
      "image/png": "[encoded data removed]",
      "text/plain": [
       "<Figure size 432x288 with 1 Axes>"
      ]
     },
     "metadata": {
      "needs_background": "light"
     },
     "output_type": "display_data"
    },
    {
     "data": {
      "image/png": "[encoded data removed]",
      "text/plain": [
       "<Figure size 432x288 with 1 Axes>"
      ]
     },
     "metadata": {
      "needs_background": "light"
     },
     "output_type": "display_data"
    }
   ],
   "source": [
    "df_boston[[\"housing\", \"minimum\"]].groupby('housing').agg(['mean'])\\\n",
    ".sort_values(by=('minimum','mean'), ascending =False).round(2)\\\n",
    ".plot(title='Average price of splitting an airbnb (minimum nights)',ylabel='Price',legend = {\"ok\"},kind=\"bar\")\n",
    "df_boston[[\"housing\", \"maximum\"]].groupby('housing').agg(['mean'])\\\n",
    ".sort_values(by=('maximum','mean'), ascending =False).round(2)\\\n",
    ".plot(title='Average price of splitting an airbnb (maximum nights)',ylabel='Price',kind=\"bar\")"
   ]
  },
  {
   "cell_type": "code",
   "execution_count": 26,
   "id": "d777a9b2",
   "metadata": {},
   "outputs": [
    {
     "name": "stderr",
     "output_type": "stream",
     "text": [
      "<ipython-input-4-530f17f01b68>:5: SettingWithCopyWarning: \n",
      "A value is trying to be set on a copy of a slice from a DataFrame.\n",
      "Try using .loc[row_indexer,col_indexer] = value instead\n",
      "\n",
      "See the caveats in the documentation: https://pandas.pydata.org/pandas-docs/stable/user_guide/indexing.html#returning-a-view-versus-a-copy\n",
      "  df[col] = df[col].replace(new_vals)\n",
      "<ipython-input-26-fcfb9746a1ce>:9: SettingWithCopyWarning: \n",
      "A value is trying to be set on a copy of a slice from a DataFrame.\n",
      "Try using .loc[row_indexer,col_indexer] = value instead\n",
      "\n",
      "See the caveats in the documentation: https://pandas.pydata.org/pandas-docs/stable/user_guide/indexing.html#returning-a-view-versus-a-copy\n",
      "  df_seattle_reviews[\"price\"] = pd.to_numeric(df_seattle_reviews['price'], errors='coerce')\n"
     ]
    }
   ],
   "source": [
    "#do analysis on the review scores\n",
    "reviews_columns = ['id','price','host_is_superhost','number_of_reviews',\\\n",
    "                   'first_review', 'last_review', 'review_scores_rating',\\\n",
    "                   'review_scores_accuracy', 'review_scores_cleanliness',\\\n",
    "                   'review_scores_checkin','review_scores_communication', \\\n",
    "                   'review_scores_location', 'review_scores_value',  'cancellation_policy',  'reviews_per_month']\n",
    "     \n",
    "\n",
    "df_seattle_reviews = df1[reviews_columns]\n",
    "\n",
    "\n",
    "make_vals_numeric(df_seattle_reviews, \"price\")\n",
    "df_seattle_reviews[\"price\"] = pd.to_numeric(df_seattle_reviews['price'], errors='coerce')\n",
    "# remove all the rows with values of 0. this only affects number_of_reviews df.dropna(how='all')\n",
    "df_seattle_reviews = df_seattle_reviews[(df_seattle_reviews != 0).all(1) ]\n",
    "# remove columns that contain no review scores at all\n",
    "df_seattle_reviews = df_seattle_reviews.dropna(subset =[ 'review_scores_rating', 'review_scores_accuracy',\\\n",
    "                                                        'review_scores_cleanliness', 'review_scores_checkin',\\\n",
    "                                                        'review_scores_communication', 'review_scores_location',\\\n",
    "                                                        'review_scores_value',] )\n"
   ]
  },
  {
   "cell_type": "code",
   "execution_count": 27,
   "id": "6a412127",
   "metadata": {},
   "outputs": [
    {
     "data": {
      "text/plain": [
       "<AxesSubplot:xlabel='review_scores_value', ylabel='price'>"
      ]
     },
     "execution_count": 27,
     "metadata": {},
     "output_type": "execute_result"
    },
    {
     "data": {
      "image/png": "[encoded data removed]",
      "text/plain": [
       "<Figure size 432x288 with 1 Axes>"
      ]
     },
     "metadata": {
      "needs_background": "light"
     },
     "output_type": "display_data"
    }
   ],
   "source": [
    "df_seattle_reviews.plot.scatter(x='review_scores_value', y='price', s=5)\n"
   ]
  },
  {
   "cell_type": "code",
   "execution_count": 28,
   "id": "293d59a6",
   "metadata": {},
   "outputs": [
    {
     "name": "stderr",
     "output_type": "stream",
     "text": [
      "<ipython-input-4-530f17f01b68>:5: SettingWithCopyWarning: \n",
      "A value is trying to be set on a copy of a slice from a DataFrame.\n",
      "Try using .loc[row_indexer,col_indexer] = value instead\n",
      "\n",
      "See the caveats in the documentation: https://pandas.pydata.org/pandas-docs/stable/user_guide/indexing.html#returning-a-view-versus-a-copy\n",
      "  df[col] = df[col].replace(new_vals)\n",
      "<ipython-input-28-17e18c141efd>:4: SettingWithCopyWarning: \n",
      "A value is trying to be set on a copy of a slice from a DataFrame.\n",
      "Try using .loc[row_indexer,col_indexer] = value instead\n",
      "\n",
      "See the caveats in the documentation: https://pandas.pydata.org/pandas-docs/stable/user_guide/indexing.html#returning-a-view-versus-a-copy\n",
      "  df_boston_reviews[\"price\"] = pd.to_numeric(df_boston_reviews['price'], errors = 'coerce')\n"
     ]
    }
   ],
   "source": [
    "df_boston_reviews = df[reviews_columns]\n",
    "#\n",
    "make_vals_numeric(df_boston_reviews, \"price\")\n",
    "df_boston_reviews[\"price\"] = pd.to_numeric(df_boston_reviews['price'], errors = 'coerce')\n",
    "#to remove places with no reviews\n",
    "df_boston_reviews = df_boston_reviews[(df_boston_reviews != 0).all(1) ]\n",
    "\n",
    "df_boston_reviews = df_boston_reviews.dropna(subset =[ 'review_scores_rating', 'review_scores_accuracy', 'review_scores_cleanliness', 'review_scores_checkin','review_scores_communication', 'review_scores_location', 'review_scores_value',] )\n"
   ]
  },
  {
   "cell_type": "code",
   "execution_count": 29,
   "id": "aa40bb4f",
   "metadata": {},
   "outputs": [
    {
     "data": {
      "text/plain": [
       "<AxesSubplot:xlabel='review_scores_value', ylabel='price'>"
      ]
     },
     "execution_count": 29,
     "metadata": {},
     "output_type": "execute_result"
    },
    {
     "data": {
      "image/png": "[encoded data removed]",
      "text/plain": [
       "<Figure size 432x288 with 1 Axes>"
      ]
     },
     "metadata": {
      "needs_background": "light"
     },
     "output_type": "display_data"
    }
   ],
   "source": [
    "df_boston_reviews.plot.scatter(x='review_scores_value', y='price', s=5)\n"
   ]
  }
 ],
 "metadata": {
  "kernelspec": {
   "display_name": "Python 3",
   "language": "python",
   "name": "python3"
  },
  "language_info": {
   "codemirror_mode": {
    "name": "ipython",
    "version": 3
   },
   "file_extension": ".py",
   "mimetype": "text/x-python",
   "name": "python",
   "nbconvert_exporter": "python",
   "pygments_lexer": "ipython3",
   "version": "3.8.5"
  }
 },
 "nbformat": 4,
 "nbformat_minor": 5
}
